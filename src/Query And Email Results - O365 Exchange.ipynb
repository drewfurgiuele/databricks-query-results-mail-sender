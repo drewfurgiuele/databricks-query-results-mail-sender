{
 "cells": [
  {
   "cell_type": "markdown",
   "metadata": {
    "application/vnd.databricks.v1+cell": {
     "cellMetadata": {},
     "inputWidgets": {},
     "nuid": "b31d5bb7-1630-473c-8bf7-b896982973d8",
     "showTitle": false,
     "tableResultSettingsMap": {},
     "title": ""
    }
   },
   "source": [
    "# Office 365 Exchange\n",
    "## Run query, save results as Excel, and send as attachment\n",
    "\n",
    "This notebook will take in three input parameters: first, it will accept a comma-delimited (,) list of email addresses, and the query ID of the associated saved query in the workspace, and the sending mailbox address. Using these values, it loads the Databricks SDK, and reads the query text from the file and executes it as a dataframe operation.\n",
    "\n",
    "With the resulting dataframe, it will then convert it to a Pandas dataframe, and save the result as Excel, using local node storage (for reasons: https://learn.microsoft.com/en-us/azure/databricks/files/write-data#where-should-i-write-temporary-files-on-azure-databricks)\n",
    "\n",
    "Once saved, a new authentication request will be made using a service principal. Secret scopes values need to be created as follows (feel free to change the scope name and/or secret names as needed):\n",
    "<br />\n",
    "<br />\n",
    "```\n",
    "Secret Scope name: dbx-mail-secrets\n",
    "\n",
    "dbx-mail-tenant-id: Tenant ID \n",
    "dbx-mail-client-id: Client ID of the associated service principal\n",
    "dbx-mail-secret: Client secret\n",
    "```\n",
    "<br />\n",
    "Make sure your service principal has the approporate API persmissions (details: https://o365.github.io/python-o365/latest/getting_started.html#authentication). This example does not use delegated permissions, so scopes are not required.\n",
    "\n",
    "**NOTE:** This methods uses a \"Direct Send\" method of sending email through Office 365, which does NOT support external (aka non-domain) users! If you need to send exteral emails, check out the basic SMTP notebook instead. However, this method is preferred for internal only communications for organizations that use Office 365 / Exchange\n",
    "\n",
    "More details here: https://learn.microsoft.com/en-us/exchange/mail-flow-best-practices/how-to-set-up-a-multifunction-device-or-application-to-send-email-using-microsoft-365-or-office-365 "
   ]
  },
  {
   "cell_type": "code",
   "execution_count": 0,
   "metadata": {
    "application/vnd.databricks.v1+cell": {
     "cellMetadata": {
      "byteLimit": 2048000,
      "rowLimit": 10000
     },
     "inputWidgets": {},
     "nuid": "42cea4b8-30f3-4369-bc85-73ab96250bd5",
     "showTitle": false,
     "tableResultSettingsMap": {},
     "title": ""
    }
   },
   "outputs": [],
   "source": [
    "%pip install o365 openpyxl xlsxwriter"
   ]
  },
  {
   "cell_type": "code",
   "execution_count": 0,
   "metadata": {
    "application/vnd.databricks.v1+cell": {
     "cellMetadata": {
      "byteLimit": 2048000,
      "rowLimit": 10000
     },
     "inputWidgets": {},
     "nuid": "998f4594-0f2e-422d-97d4-ab4f64c68a84",
     "showTitle": false,
     "tableResultSettingsMap": {},
     "title": ""
    }
   },
   "outputs": [],
   "source": [
    "dbutils.library.restartPython()"
   ]
  },
  {
   "cell_type": "code",
   "execution_count": 0,
   "metadata": {
    "application/vnd.databricks.v1+cell": {
     "cellMetadata": {
      "byteLimit": 2048000,
      "rowLimit": 10000
     },
     "inputWidgets": {},
     "nuid": "b905098f-b594-4294-ab2c-b2e3b99d196d",
     "showTitle": false,
     "tableResultSettingsMap": {},
     "title": ""
    }
   },
   "outputs": [],
   "source": [
    "dbutils.widgets.text(\"query_id\", \"\", \"Query ID\")\n",
    "dbutils.widgets.text(\"email_recipients\", \"\", \"Email Recipients (comma separated)\")\n",
    "dbutils.widgets.text(\"from_mailbox\", \"\", \"From Email Address\")"
   ]
  },
  {
   "cell_type": "code",
   "execution_count": 0,
   "metadata": {
    "application/vnd.databricks.v1+cell": {
     "cellMetadata": {
      "byteLimit": 2048000,
      "rowLimit": 10000
     },
     "inputWidgets": {},
     "nuid": "42c7dc0f-0c46-4334-9d51-b703bfe4f37e",
     "showTitle": false,
     "tableResultSettingsMap": {},
     "title": ""
    }
   },
   "outputs": [],
   "source": [
    "from databricks.sdk import WorkspaceClient\n",
    "\n",
    "w = WorkspaceClient()"
   ]
  },
  {
   "cell_type": "code",
   "execution_count": 0,
   "metadata": {
    "application/vnd.databricks.v1+cell": {
     "cellMetadata": {
      "byteLimit": 2048000,
      "rowLimit": 10000
     },
     "inputWidgets": {},
     "nuid": "08c54b4b-c76d-4954-9b34-a33138c670a8",
     "showTitle": false,
     "tableResultSettingsMap": {},
     "title": ""
    }
   },
   "outputs": [],
   "source": [
    "requested_query = dbutils.widgets.get(\"query_id\")\n",
    "query = w.queries.get(requested_query)\n",
    "query_obj = query.as_dict()\n",
    "query_text = query_obj[\"query_text\"]\n",
    "query_name = query_obj[\"display_name\"]"
   ]
  },
  {
   "cell_type": "markdown",
   "metadata": {
    "application/vnd.databricks.v1+cell": {
     "cellMetadata": {},
     "inputWidgets": {},
     "nuid": "9f539f7d-3811-4060-95e2-27a742ce2c9f",
     "showTitle": false,
     "tableResultSettingsMap": {},
     "title": ""
    }
   },
   "source": [
    "### DEBUG: What query actually ran?"
   ]
  },
  {
   "cell_type": "code",
   "execution_count": 0,
   "metadata": {
    "application/vnd.databricks.v1+cell": {
     "cellMetadata": {
      "byteLimit": 2048000,
      "rowLimit": 10000
     },
     "inputWidgets": {},
     "nuid": "b27efb0c-0164-46f4-a77f-ad6f56bd7c1d",
     "showTitle": false,
     "tableResultSettingsMap": {},
     "title": ""
    }
   },
   "outputs": [],
   "source": [
    "print(query_text)"
   ]
  },
  {
   "cell_type": "code",
   "execution_count": 0,
   "metadata": {
    "application/vnd.databricks.v1+cell": {
     "cellMetadata": {
      "byteLimit": 2048000,
      "rowLimit": 10000
     },
     "inputWidgets": {},
     "nuid": "379ddc01-f7be-41da-84c9-e71557e6ae9d",
     "showTitle": false,
     "tableResultSettingsMap": {},
     "title": ""
    }
   },
   "outputs": [],
   "source": [
    "query_results_df = spark.sql(query_text)"
   ]
  },
  {
   "cell_type": "code",
   "execution_count": 0,
   "metadata": {
    "application/vnd.databricks.v1+cell": {
     "cellMetadata": {
      "byteLimit": 2048000,
      "rowLimit": 10000
     },
     "inputWidgets": {},
     "nuid": "be82f96b-92f9-48a4-8ea9-65dee1febf0a",
     "showTitle": false,
     "tableResultSettingsMap": {},
     "title": ""
    }
   },
   "outputs": [],
   "source": [
    "query_results_pandas_df = query_results_df.toPandas()"
   ]
  },
  {
   "cell_type": "code",
   "execution_count": 0,
   "metadata": {
    "application/vnd.databricks.v1+cell": {
     "cellMetadata": {
      "byteLimit": 2048000,
      "rowLimit": 10000
     },
     "inputWidgets": {},
     "nuid": "db766179-d237-42db-ad67-b1e5b7e93e0a",
     "showTitle": false,
     "tableResultSettingsMap": {},
     "title": ""
    }
   },
   "outputs": [],
   "source": [
    "import datetime\n",
    "report_time = datetime.datetime.now()\n",
    "report_time_formatted = report_time.strftime(\"%Y-%m-%d_%H:%M\")\n",
    "report_time_formatted\n"
   ]
  },
  {
   "cell_type": "code",
   "execution_count": 0,
   "metadata": {
    "application/vnd.databricks.v1+cell": {
     "cellMetadata": {
      "byteLimit": 2048000,
      "rowLimit": 10000
     },
     "inputWidgets": {},
     "nuid": "3d56ccda-968a-4624-89d4-b6c4c06a856b",
     "showTitle": false,
     "tableResultSettingsMap": {},
     "title": ""
    }
   },
   "outputs": [],
   "source": [
    "file_name = \"/local_disk0/tmp/{0}_{1}.xlsx\".format(query_name.replace(\" \",\"_\"), report_time_formatted)"
   ]
  },
  {
   "cell_type": "code",
   "execution_count": 0,
   "metadata": {
    "application/vnd.databricks.v1+cell": {
     "cellMetadata": {
      "byteLimit": 2048000,
      "rowLimit": 10000
     },
     "inputWidgets": {},
     "nuid": "7256dab6-e60d-420f-ae6e-4a858524f486",
     "showTitle": false,
     "tableResultSettingsMap": {},
     "title": ""
    }
   },
   "outputs": [],
   "source": [
    "import pandas as pd\n",
    "writer = pd.ExcelWriter(file_name) \n",
    "query_results_pandas_df.to_excel(writer, sheet_name=query_name, index=False, na_rep='NaN')\n",
    "\n",
    "for column in query_results_pandas_df:\n",
    "    column_length = max(query_results_pandas_df[column].astype(str).map(len).max(), len(column))\n",
    "    col_idx = query_results_pandas_df.columns.get_loc(column)\n",
    "    writer.sheets[query_name].set_column(col_idx, col_idx, column_length)\n",
    "\n",
    "writer.close()"
   ]
  },
  {
   "cell_type": "markdown",
   "metadata": {
    "application/vnd.databricks.v1+cell": {
     "cellMetadata": {},
     "inputWidgets": {},
     "nuid": "b8d0b8bb-1e83-40b9-918c-cb5fabce3329",
     "showTitle": false,
     "tableResultSettingsMap": {},
     "title": ""
    }
   },
   "source": [
    "### Set up email with O365 Python Library\n",
    "\n",
    "This notebook usese the popular open source Python library, O365: https://github.com/O365/python-o365\n",
    "\n",
    "This library takes care of all the requied modern authentication and GraphAPI calls required to properly set up a connection to Office 365 Exchange. You're more than welcome to write your own if you prefer not to use this method."
   ]
  },
  {
   "cell_type": "code",
   "execution_count": 0,
   "metadata": {
    "application/vnd.databricks.v1+cell": {
     "cellMetadata": {
      "byteLimit": 2048000,
      "rowLimit": 10000
     },
     "inputWidgets": {},
     "nuid": "8adfe09e-18c0-48c3-8639-ce781c1744b4",
     "showTitle": false,
     "tableResultSettingsMap": {},
     "title": ""
    }
   },
   "outputs": [],
   "source": [
    "tenant_id = dbutils.secrets.get(scope = \"dbx-mail-secerts\", key = \"dbx-mail-tenant-id\")\n",
    "client_id = dbutils.secrets.get(scope = \"dbx-mail-secerts\", key = \"dbx-mail-client-id\")\n",
    "client_secret = dbutils.secrets.get(scope = \"dbx-mail-secerts\", key = \"dbx-mail-secret\")\n"
   ]
  },
  {
   "cell_type": "code",
   "execution_count": 0,
   "metadata": {
    "application/vnd.databricks.v1+cell": {
     "cellMetadata": {
      "byteLimit": 2048000,
      "rowLimit": 10000
     },
     "inputWidgets": {},
     "nuid": "0a24c8a1-f0fb-454a-b1af-a4b446a1f3e4",
     "showTitle": false,
     "tableResultSettingsMap": {},
     "title": ""
    }
   },
   "outputs": [],
   "source": [
    "from O365 import Account\n",
    "\n",
    "credentials = (client_id, client_secret)\n",
    "\n",
    "account = Account(credentials, auth_flow_type='credentials', tenant_id=tenant_id)\n",
    "if account.authenticate():\n",
    "   print('Authenticated!')\n",
    "\n",
    "message = account.new_message(resource=dbutils.widgets.get(\"from_mailbox\"))\n",
    "to_list = dbutils.widgets.get(\"email_recipients\").split(\",\")\n",
    "for email in to_list:\n",
    "    message.to.add(email)\n",
    "message.subject = 'Databricks Report: {0}'.format(query_name)\n",
    "message.sender.address = dbutils.widgets.get(\"from_mailbox\")\n",
    "message.body = 'Please find your automated Databricks-geneated report attached. This report was generated on {0}'.format(report_time_formatted)\n",
    "message.attachments.add(file_name)\n",
    "message.send()"
   ]
  }
 ],
 "metadata": {
  "application/vnd.databricks.v1+notebook": {
   "computePreferences": null,
   "dashboards": [],
   "environmentMetadata": {
    "base_environment": "",
    "environment_version": "3"
   },
   "inputWidgetPreferences": null,
   "language": "python",
   "notebookMetadata": {
    "pythonIndentUnit": 4
   },
   "notebookName": "Query And Email Results - O365 Exchange",
   "widgets": {
    "email_recipients": {
     "currentValue": "",
     "nuid": "4c68b620-933a-4b9e-993f-0f52646c7d78",
     "typedWidgetInfo": {
      "autoCreated": false,
      "defaultValue": "",
      "label": "Email Recipients (semicolon separated)",
      "name": "email_recipients",
      "options": {
       "validationRegex": null,
       "widgetDisplayType": "Text"
      },
      "parameterDataType": "String"
     },
     "widgetInfo": {
      "defaultValue": "",
      "label": "Email Recipients (semicolon separated)",
      "name": "email_recipients",
      "options": {
       "autoCreated": false,
       "validationRegex": null,
       "widgetType": "text"
      },
      "widgetType": "text"
     }
    },
    "from_mailbox": {
     "currentValue": "",
     "nuid": "7375c82b-f3ca-4106-90be-fe4f3ddf3b0c",
     "typedWidgetInfo": {
      "autoCreated": false,
      "defaultValue": "",
      "label": "From Email Address",
      "name": "from_mailbox",
      "options": {
       "validationRegex": null,
       "widgetDisplayType": "Text"
      },
      "parameterDataType": "String"
     },
     "widgetInfo": {
      "defaultValue": "",
      "label": "From Email Address",
      "name": "from_mailbox",
      "options": {
       "autoCreated": null,
       "validationRegex": null,
       "widgetType": "text"
      },
      "widgetType": "text"
     }
    },
    "query_id": {
     "currentValue": "19933d93-c02b-44ef-a2ec-cd5e14bfb478",
     "nuid": "7e5d7a81-5a83-4b7e-884a-706d5d8c2e3a",
     "typedWidgetInfo": {
      "autoCreated": false,
      "defaultValue": "",
      "label": "Query ID",
      "name": "query_id",
      "options": {
       "validationRegex": null,
       "widgetDisplayType": "Text"
      },
      "parameterDataType": "String"
     },
     "widgetInfo": {
      "defaultValue": "",
      "label": "Query ID",
      "name": "query_id",
      "options": {
       "autoCreated": null,
       "validationRegex": null,
       "widgetType": "text"
      },
      "widgetType": "text"
     }
    }
   }
  },
  "language_info": {
   "name": "python"
  }
 },
 "nbformat": 4,
 "nbformat_minor": 0
}
